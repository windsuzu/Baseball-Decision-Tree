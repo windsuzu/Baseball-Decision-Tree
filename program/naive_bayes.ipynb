{
 "nbformat": 4,
 "nbformat_minor": 2,
 "metadata": {
  "language_info": {
   "name": "python",
   "codemirror_mode": {
    "name": "ipython",
    "version": 3
   }
  },
  "orig_nbformat": 2,
  "file_extension": ".py",
  "mimetype": "text/x-python",
  "name": "python",
  "npconvert_exporter": "python",
  "pygments_lexer": "ipython3",
  "version": 3
 },
 "cells": [
  {
   "cell_type": "markdown",
   "execution_count": 4,
   "metadata": {},
   "outputs": [],
   "source": [
    "# 1. Train and test the data"
   ]
  },
  {
   "cell_type": "code",
   "execution_count": 1,
   "metadata": {},
   "outputs": [
    {
     "data": {
      "text/plain": "0.7976666666666666"
     },
     "execution_count": 1,
     "metadata": {},
     "output_type": "execute_result"
    }
   ],
   "source": [
    "from sklearn import datasets\n",
    "from sklearn.model_selection import train_test_split\n",
    "from sklearn.naive_bayes import GaussianNB\n",
    "import pandas as pd\n",
    "\n",
    "# Load Data\n",
    "players = pd.read_csv('players.csv', index_col=[0])\n",
    "x = players.drop(columns=['result'])\n",
    "y = players['result']\n",
    "\n",
    "# split train 70% and test 30%\n",
    "X_train, X_test, y_train, y_test = \\\n",
    "    train_test_split(x, y, test_size=0.3, random_state=0)\n",
    "\n",
    "# Initialize classifier\n",
    "gnb = GaussianNB()\n",
    "gnb.fit(X_train, y_train)\n",
    "\n",
    "y_pred = gnb.predict(X_test)\n",
    "\n",
    "gnb.score(X_test, y_test)"
   ]
  },
  {
   "cell_type": "markdown",
   "execution_count": null,
   "metadata": {},
   "outputs": [],
   "source": [
    "# 2. Find the Error"
   ]
  },
  {
   "cell_type": "code",
   "execution_count": 2,
   "metadata": {},
   "outputs": [
    {
     "data": {
      "text/html": "<div>\n<style scoped>\n    .dataframe tbody tr th:only-of-type {\n        vertical-align: middle;\n    }\n\n    .dataframe tbody tr th {\n        vertical-align: top;\n    }\n\n    .dataframe thead th {\n        text-align: right;\n    }\n</style>\n<table border=\"1\" class=\"dataframe\">\n  <thead>\n    <tr style=\"text-align: right;\">\n      <th></th>\n      <th>2B</th>\n      <th>3B</th>\n      <th>HR</th>\n      <th>H</th>\n      <th>PA</th>\n      <th>BB</th>\n      <th>HBP</th>\n      <th>SF</th>\n      <th>G</th>\n      <th>AB</th>\n      <th>...</th>\n      <th>SAC</th>\n      <th>XBH</th>\n      <th>GDP</th>\n      <th>GO</th>\n      <th>AO</th>\n      <th>GOAO</th>\n      <th>NP</th>\n      <th>score</th>\n      <th>predict</th>\n      <th>target</th>\n    </tr>\n  </thead>\n  <tbody>\n    <tr>\n      <th>0</th>\n      <td>56.0</td>\n      <td>20.0</td>\n      <td>38.0</td>\n      <td>192.0</td>\n      <td>637.0</td>\n      <td>115.0</td>\n      <td>10.0</td>\n      <td>8.0</td>\n      <td>155.0</td>\n      <td>637.0</td>\n      <td>...</td>\n      <td>5.0</td>\n      <td>114.0</td>\n      <td>9.0</td>\n      <td>55.0</td>\n      <td>190.0</td>\n      <td>0.289</td>\n      <td>2321.0</td>\n      <td>5.662952</td>\n      <td>0.0</td>\n      <td>2.0</td>\n    </tr>\n    <tr>\n      <th>1</th>\n      <td>51.0</td>\n      <td>14.0</td>\n      <td>56.0</td>\n      <td>234.0</td>\n      <td>396.0</td>\n      <td>98.0</td>\n      <td>30.0</td>\n      <td>15.0</td>\n      <td>160.0</td>\n      <td>396.0</td>\n      <td>...</td>\n      <td>13.0</td>\n      <td>121.0</td>\n      <td>4.0</td>\n      <td>22.0</td>\n      <td>31.0</td>\n      <td>0.710</td>\n      <td>868.0</td>\n      <td>5.537444</td>\n      <td>0.0</td>\n      <td>2.0</td>\n    </tr>\n    <tr>\n      <th>2</th>\n      <td>58.0</td>\n      <td>12.0</td>\n      <td>60.0</td>\n      <td>243.0</td>\n      <td>401.0</td>\n      <td>106.0</td>\n      <td>8.0</td>\n      <td>10.0</td>\n      <td>138.0</td>\n      <td>401.0</td>\n      <td>...</td>\n      <td>11.0</td>\n      <td>130.0</td>\n      <td>24.0</td>\n      <td>67.0</td>\n      <td>108.0</td>\n      <td>0.620</td>\n      <td>1827.0</td>\n      <td>5.477837</td>\n      <td>0.0</td>\n      <td>2.0</td>\n    </tr>\n    <tr>\n      <th>3</th>\n      <td>47.0</td>\n      <td>20.0</td>\n      <td>38.0</td>\n      <td>241.0</td>\n      <td>434.0</td>\n      <td>105.0</td>\n      <td>11.0</td>\n      <td>6.0</td>\n      <td>92.0</td>\n      <td>434.0</td>\n      <td>...</td>\n      <td>4.0</td>\n      <td>105.0</td>\n      <td>24.0</td>\n      <td>72.0</td>\n      <td>25.0</td>\n      <td>2.880</td>\n      <td>3300.0</td>\n      <td>5.407071</td>\n      <td>1.0</td>\n      <td>2.0</td>\n    </tr>\n    <tr>\n      <th>4</th>\n      <td>43.0</td>\n      <td>19.0</td>\n      <td>52.0</td>\n      <td>230.0</td>\n      <td>353.0</td>\n      <td>103.0</td>\n      <td>29.0</td>\n      <td>0.0</td>\n      <td>158.0</td>\n      <td>353.0</td>\n      <td>...</td>\n      <td>7.0</td>\n      <td>114.0</td>\n      <td>16.0</td>\n      <td>126.0</td>\n      <td>182.0</td>\n      <td>0.692</td>\n      <td>2892.0</td>\n      <td>5.394635</td>\n      <td>1.0</td>\n      <td>2.0</td>\n    </tr>\n    <tr>\n      <th>...</th>\n      <td>...</td>\n      <td>...</td>\n      <td>...</td>\n      <td>...</td>\n      <td>...</td>\n      <td>...</td>\n      <td>...</td>\n      <td>...</td>\n      <td>...</td>\n      <td>...</td>\n      <td>...</td>\n      <td>...</td>\n      <td>...</td>\n      <td>...</td>\n      <td>...</td>\n      <td>...</td>\n      <td>...</td>\n      <td>...</td>\n      <td>...</td>\n      <td>...</td>\n      <td>...</td>\n    </tr>\n    <tr>\n      <th>602</th>\n      <td>32.0</td>\n      <td>15.0</td>\n      <td>4.0</td>\n      <td>145.0</td>\n      <td>467.0</td>\n      <td>104.0</td>\n      <td>13.0</td>\n      <td>0.0</td>\n      <td>99.0</td>\n      <td>467.0</td>\n      <td>...</td>\n      <td>4.0</td>\n      <td>51.0</td>\n      <td>20.0</td>\n      <td>58.0</td>\n      <td>39.0</td>\n      <td>1.487</td>\n      <td>3041.0</td>\n      <td>3.895853</td>\n      <td>0.0</td>\n      <td>2.0</td>\n    </tr>\n    <tr>\n      <th>603</th>\n      <td>33.0</td>\n      <td>12.0</td>\n      <td>43.0</td>\n      <td>197.0</td>\n      <td>362.0</td>\n      <td>64.0</td>\n      <td>22.0</td>\n      <td>11.0</td>\n      <td>11.0</td>\n      <td>362.0</td>\n      <td>...</td>\n      <td>1.0</td>\n      <td>88.0</td>\n      <td>5.0</td>\n      <td>95.0</td>\n      <td>109.0</td>\n      <td>0.872</td>\n      <td>2055.0</td>\n      <td>3.895153</td>\n      <td>0.0</td>\n      <td>2.0</td>\n    </tr>\n    <tr>\n      <th>604</th>\n      <td>47.0</td>\n      <td>14.0</td>\n      <td>0.0</td>\n      <td>200.0</td>\n      <td>586.0</td>\n      <td>59.0</td>\n      <td>15.0</td>\n      <td>11.0</td>\n      <td>86.0</td>\n      <td>586.0</td>\n      <td>...</td>\n      <td>2.0</td>\n      <td>61.0</td>\n      <td>24.0</td>\n      <td>36.0</td>\n      <td>160.0</td>\n      <td>0.225</td>\n      <td>652.0</td>\n      <td>3.893004</td>\n      <td>1.0</td>\n      <td>2.0</td>\n    </tr>\n    <tr>\n      <th>605</th>\n      <td>57.0</td>\n      <td>1.0</td>\n      <td>37.0</td>\n      <td>195.0</td>\n      <td>532.0</td>\n      <td>105.0</td>\n      <td>4.0</td>\n      <td>2.0</td>\n      <td>154.0</td>\n      <td>532.0</td>\n      <td>...</td>\n      <td>6.0</td>\n      <td>95.0</td>\n      <td>13.0</td>\n      <td>122.0</td>\n      <td>152.0</td>\n      <td>0.803</td>\n      <td>568.0</td>\n      <td>3.891419</td>\n      <td>1.0</td>\n      <td>2.0</td>\n    </tr>\n    <tr>\n      <th>606</th>\n      <td>46.0</td>\n      <td>11.0</td>\n      <td>37.0</td>\n      <td>194.0</td>\n      <td>501.0</td>\n      <td>74.0</td>\n      <td>20.0</td>\n      <td>3.0</td>\n      <td>159.0</td>\n      <td>501.0</td>\n      <td>...</td>\n      <td>9.0</td>\n      <td>94.0</td>\n      <td>12.0</td>\n      <td>54.0</td>\n      <td>7.0</td>\n      <td>7.714</td>\n      <td>89.0</td>\n      <td>3.891051</td>\n      <td>1.0</td>\n      <td>2.0</td>\n    </tr>\n  </tbody>\n</table>\n<p>607 rows × 31 columns</p>\n</div>",
      "text/plain": "       2B    3B    HR      H     PA     BB   HBP    SF      G     AB  ...  \\\n0    56.0  20.0  38.0  192.0  637.0  115.0  10.0   8.0  155.0  637.0  ...   \n1    51.0  14.0  56.0  234.0  396.0   98.0  30.0  15.0  160.0  396.0  ...   \n2    58.0  12.0  60.0  243.0  401.0  106.0   8.0  10.0  138.0  401.0  ...   \n3    47.0  20.0  38.0  241.0  434.0  105.0  11.0   6.0   92.0  434.0  ...   \n4    43.0  19.0  52.0  230.0  353.0  103.0  29.0   0.0  158.0  353.0  ...   \n..    ...   ...   ...    ...    ...    ...   ...   ...    ...    ...  ...   \n602  32.0  15.0   4.0  145.0  467.0  104.0  13.0   0.0   99.0  467.0  ...   \n603  33.0  12.0  43.0  197.0  362.0   64.0  22.0  11.0   11.0  362.0  ...   \n604  47.0  14.0   0.0  200.0  586.0   59.0  15.0  11.0   86.0  586.0  ...   \n605  57.0   1.0  37.0  195.0  532.0  105.0   4.0   2.0  154.0  532.0  ...   \n606  46.0  11.0  37.0  194.0  501.0   74.0  20.0   3.0  159.0  501.0  ...   \n\n      SAC    XBH   GDP     GO     AO   GOAO      NP     score  predict  target  \n0     5.0  114.0   9.0   55.0  190.0  0.289  2321.0  5.662952      0.0     2.0  \n1    13.0  121.0   4.0   22.0   31.0  0.710   868.0  5.537444      0.0     2.0  \n2    11.0  130.0  24.0   67.0  108.0  0.620  1827.0  5.477837      0.0     2.0  \n3     4.0  105.0  24.0   72.0   25.0  2.880  3300.0  5.407071      1.0     2.0  \n4     7.0  114.0  16.0  126.0  182.0  0.692  2892.0  5.394635      1.0     2.0  \n..    ...    ...   ...    ...    ...    ...     ...       ...      ...     ...  \n602   4.0   51.0  20.0   58.0   39.0  1.487  3041.0  3.895853      0.0     2.0  \n603   1.0   88.0   5.0   95.0  109.0  0.872  2055.0  3.895153      0.0     2.0  \n604   2.0   61.0  24.0   36.0  160.0  0.225   652.0  3.893004      1.0     2.0  \n605   6.0   95.0  13.0  122.0  152.0  0.803   568.0  3.891419      1.0     2.0  \n606   9.0   94.0  12.0   54.0    7.0  7.714    89.0  3.891051      1.0     2.0  \n\n[607 rows x 31 columns]"
     },
     "execution_count": 2,
     "metadata": {},
     "output_type": "execute_result"
    }
   ],
   "source": [
    "df = pd.DataFrame(columns=[*x.columns.values, 'predict', 'target'])\n",
    "for i in range(len(y_test)):\n",
    "    if y_pred[i] != y_test.to_numpy()[i]:\n",
    "        data = [*x.loc[i].to_numpy(), y_pred[i], y_test.to_numpy()[i]]\n",
    "        df.loc[len(df)] = data\n",
    "\n",
    "df"
   ]
  },
  {
   "cell_type": "code",
   "execution_count": null,
   "metadata": {},
   "outputs": [],
   "source": []
  }
 ]
}