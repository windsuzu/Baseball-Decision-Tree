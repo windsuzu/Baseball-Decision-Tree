{
 "nbformat": 4,
 "nbformat_minor": 2,
 "metadata": {
  "language_info": {
   "name": "python",
   "codemirror_mode": {
    "name": "ipython",
    "version": 3
   }
  },
  "orig_nbformat": 2,
  "file_extension": ".py",
  "mimetype": "text/x-python",
  "name": "python",
  "npconvert_exporter": "python",
  "pygments_lexer": "ipython3",
  "version": 3
 },
 "cells": [
  {
   "cell_type": "markdown",
   "execution_count": null,
   "metadata": {},
   "outputs": [],
   "source": [
    "# 1. Train and test the data"
   ]
  },
  {
   "cell_type": "code",
   "execution_count": 1,
   "metadata": {},
   "outputs": [
    {
     "data": {
      "text/plain": "0.8503333333333334"
     },
     "execution_count": 1,
     "metadata": {},
     "output_type": "execute_result"
    }
   ],
   "source": [
    "from sklearn import datasets\n",
    "from sklearn.model_selection import train_test_split\n",
    "from sklearn import svm\n",
    "import pandas as pd\n",
    "\n",
    "# Load Data\n",
    "players = pd.read_csv('players.csv', index_col=[0])\n",
    "x = players.drop(columns=['result'])\n",
    "y = players['result']\n",
    "\n",
    "# split train 70% and test 30%\n",
    "X_train, X_test, y_train, y_test = \\\n",
    "    train_test_split(x, y, test_size=0.3, random_state=0)\n",
    "\n",
    "# Initialize classifier\n",
    "clf = svm.SVC(kernel='rbf', gamma='auto')\n",
    "clf.fit(X_train, y_train)\n",
    "\n",
    "y_pred = clf.predict(X_test)\n",
    "clf.score(X_test, y_test)"
   ]
  },
  {
   "cell_type": "markdown",
   "execution_count": 20,
   "metadata": {},
   "outputs": [
    {
     "data": {
      "text/plain": "array([2, 0, 0, 2, 1, 1, 0, 2, 1, 1, 1, 0, 2, 2, 2, 0, 2, 1, 2, 1, 2, 2,\n       2, 2, 1, 0, 1, 2, 0, 2])"
     },
     "execution_count": 20,
     "metadata": {},
     "output_type": "execute_result"
    }
   ],
   "source": [
    "# 2. Find the Error"
   ]
  },
  {
   "cell_type": "code",
   "execution_count": 2,
   "metadata": {},
   "outputs": [
    {
     "data": {
      "text/html": "<div>\n<style scoped>\n    .dataframe tbody tr th:only-of-type {\n        vertical-align: middle;\n    }\n\n    .dataframe tbody tr th {\n        vertical-align: top;\n    }\n\n    .dataframe thead th {\n        text-align: right;\n    }\n</style>\n<table border=\"1\" class=\"dataframe\">\n  <thead>\n    <tr style=\"text-align: right;\">\n      <th></th>\n      <th>2B</th>\n      <th>3B</th>\n      <th>HR</th>\n      <th>H</th>\n      <th>PA</th>\n      <th>BB</th>\n      <th>HBP</th>\n      <th>SF</th>\n      <th>G</th>\n      <th>AB</th>\n      <th>...</th>\n      <th>SAC</th>\n      <th>XBH</th>\n      <th>GDP</th>\n      <th>GO</th>\n      <th>AO</th>\n      <th>GOAO</th>\n      <th>NP</th>\n      <th>score</th>\n      <th>predict</th>\n      <th>target</th>\n    </tr>\n  </thead>\n  <tbody>\n    <tr>\n      <th>0</th>\n      <td>44.0</td>\n      <td>19.0</td>\n      <td>40.0</td>\n      <td>238.0</td>\n      <td>574.0</td>\n      <td>114.0</td>\n      <td>21.0</td>\n      <td>10.0</td>\n      <td>148.0</td>\n      <td>574.0</td>\n      <td>...</td>\n      <td>6.0</td>\n      <td>103.0</td>\n      <td>27.0</td>\n      <td>53.0</td>\n      <td>149.0</td>\n      <td>0.356</td>\n      <td>1757.0</td>\n      <td>5.626502</td>\n      <td>2.0</td>\n      <td>1.0</td>\n    </tr>\n    <tr>\n      <th>1</th>\n      <td>48.0</td>\n      <td>19.0</td>\n      <td>47.0</td>\n      <td>239.0</td>\n      <td>411.0</td>\n      <td>79.0</td>\n      <td>8.0</td>\n      <td>13.0</td>\n      <td>91.0</td>\n      <td>411.0</td>\n      <td>...</td>\n      <td>15.0</td>\n      <td>114.0</td>\n      <td>25.0</td>\n      <td>113.0</td>\n      <td>87.0</td>\n      <td>1.299</td>\n      <td>1011.0</td>\n      <td>5.394748</td>\n      <td>2.0</td>\n      <td>1.0</td>\n    </tr>\n    <tr>\n      <th>2</th>\n      <td>14.0</td>\n      <td>19.0</td>\n      <td>39.0</td>\n      <td>238.0</td>\n      <td>427.0</td>\n      <td>101.0</td>\n      <td>2.0</td>\n      <td>14.0</td>\n      <td>146.0</td>\n      <td>427.0</td>\n      <td>...</td>\n      <td>15.0</td>\n      <td>72.0</td>\n      <td>14.0</td>\n      <td>57.0</td>\n      <td>3.0</td>\n      <td>19.000</td>\n      <td>2089.0</td>\n      <td>5.264166</td>\n      <td>2.0</td>\n      <td>0.0</td>\n    </tr>\n    <tr>\n      <th>3</th>\n      <td>39.0</td>\n      <td>18.0</td>\n      <td>47.0</td>\n      <td>262.0</td>\n      <td>368.0</td>\n      <td>98.0</td>\n      <td>4.0</td>\n      <td>12.0</td>\n      <td>91.0</td>\n      <td>368.0</td>\n      <td>...</td>\n      <td>15.0</td>\n      <td>104.0</td>\n      <td>6.0</td>\n      <td>144.0</td>\n      <td>17.0</td>\n      <td>8.471</td>\n      <td>874.0</td>\n      <td>5.199430</td>\n      <td>2.0</td>\n      <td>0.0</td>\n    </tr>\n    <tr>\n      <th>4</th>\n      <td>48.0</td>\n      <td>19.0</td>\n      <td>60.0</td>\n      <td>207.0</td>\n      <td>317.0</td>\n      <td>92.0</td>\n      <td>29.0</td>\n      <td>3.0</td>\n      <td>112.0</td>\n      <td>317.0</td>\n      <td>...</td>\n      <td>4.0</td>\n      <td>127.0</td>\n      <td>20.0</td>\n      <td>78.0</td>\n      <td>181.0</td>\n      <td>0.431</td>\n      <td>907.0</td>\n      <td>5.140086</td>\n      <td>2.0</td>\n      <td>1.0</td>\n    </tr>\n    <tr>\n      <th>...</th>\n      <td>...</td>\n      <td>...</td>\n      <td>...</td>\n      <td>...</td>\n      <td>...</td>\n      <td>...</td>\n      <td>...</td>\n      <td>...</td>\n      <td>...</td>\n      <td>...</td>\n      <td>...</td>\n      <td>...</td>\n      <td>...</td>\n      <td>...</td>\n      <td>...</td>\n      <td>...</td>\n      <td>...</td>\n      <td>...</td>\n      <td>...</td>\n      <td>...</td>\n      <td>...</td>\n    </tr>\n    <tr>\n      <th>444</th>\n      <td>21.0</td>\n      <td>4.0</td>\n      <td>45.0</td>\n      <td>226.0</td>\n      <td>481.0</td>\n      <td>53.0</td>\n      <td>25.0</td>\n      <td>6.0</td>\n      <td>124.0</td>\n      <td>481.0</td>\n      <td>...</td>\n      <td>2.0</td>\n      <td>70.0</td>\n      <td>8.0</td>\n      <td>114.0</td>\n      <td>18.0</td>\n      <td>6.333</td>\n      <td>696.0</td>\n      <td>3.900135</td>\n      <td>2.0</td>\n      <td>1.0</td>\n    </tr>\n    <tr>\n      <th>445</th>\n      <td>30.0</td>\n      <td>3.0</td>\n      <td>39.0</td>\n      <td>254.0</td>\n      <td>329.0</td>\n      <td>76.0</td>\n      <td>31.0</td>\n      <td>4.0</td>\n      <td>136.0</td>\n      <td>329.0</td>\n      <td>...</td>\n      <td>9.0</td>\n      <td>72.0</td>\n      <td>19.0</td>\n      <td>35.0</td>\n      <td>110.0</td>\n      <td>0.318</td>\n      <td>2796.0</td>\n      <td>3.899333</td>\n      <td>2.0</td>\n      <td>0.0</td>\n    </tr>\n    <tr>\n      <th>446</th>\n      <td>24.0</td>\n      <td>8.0</td>\n      <td>60.0</td>\n      <td>184.0</td>\n      <td>602.0</td>\n      <td>77.0</td>\n      <td>30.0</td>\n      <td>10.0</td>\n      <td>146.0</td>\n      <td>602.0</td>\n      <td>...</td>\n      <td>13.0</td>\n      <td>92.0</td>\n      <td>3.0</td>\n      <td>42.0</td>\n      <td>207.0</td>\n      <td>0.203</td>\n      <td>3256.0</td>\n      <td>3.897597</td>\n      <td>2.0</td>\n      <td>0.0</td>\n    </tr>\n    <tr>\n      <th>447</th>\n      <td>41.0</td>\n      <td>11.0</td>\n      <td>40.0</td>\n      <td>144.0</td>\n      <td>284.0</td>\n      <td>48.0</td>\n      <td>12.0</td>\n      <td>14.0</td>\n      <td>105.0</td>\n      <td>284.0</td>\n      <td>...</td>\n      <td>15.0</td>\n      <td>92.0</td>\n      <td>13.0</td>\n      <td>98.0</td>\n      <td>69.0</td>\n      <td>1.420</td>\n      <td>1883.0</td>\n      <td>3.894614</td>\n      <td>2.0</td>\n      <td>0.0</td>\n    </tr>\n    <tr>\n      <th>448</th>\n      <td>7.0</td>\n      <td>13.0</td>\n      <td>44.0</td>\n      <td>209.0</td>\n      <td>432.0</td>\n      <td>115.0</td>\n      <td>3.0</td>\n      <td>11.0</td>\n      <td>88.0</td>\n      <td>432.0</td>\n      <td>...</td>\n      <td>3.0</td>\n      <td>64.0</td>\n      <td>17.0</td>\n      <td>30.0</td>\n      <td>35.0</td>\n      <td>0.857</td>\n      <td>8.0</td>\n      <td>3.891282</td>\n      <td>2.0</td>\n      <td>1.0</td>\n    </tr>\n  </tbody>\n</table>\n<p>449 rows × 31 columns</p>\n</div>",
      "text/plain": "       2B    3B    HR      H     PA     BB   HBP    SF      G     AB  ...  \\\n0    44.0  19.0  40.0  238.0  574.0  114.0  21.0  10.0  148.0  574.0  ...   \n1    48.0  19.0  47.0  239.0  411.0   79.0   8.0  13.0   91.0  411.0  ...   \n2    14.0  19.0  39.0  238.0  427.0  101.0   2.0  14.0  146.0  427.0  ...   \n3    39.0  18.0  47.0  262.0  368.0   98.0   4.0  12.0   91.0  368.0  ...   \n4    48.0  19.0  60.0  207.0  317.0   92.0  29.0   3.0  112.0  317.0  ...   \n..    ...   ...   ...    ...    ...    ...   ...   ...    ...    ...  ...   \n444  21.0   4.0  45.0  226.0  481.0   53.0  25.0   6.0  124.0  481.0  ...   \n445  30.0   3.0  39.0  254.0  329.0   76.0  31.0   4.0  136.0  329.0  ...   \n446  24.0   8.0  60.0  184.0  602.0   77.0  30.0  10.0  146.0  602.0  ...   \n447  41.0  11.0  40.0  144.0  284.0   48.0  12.0  14.0  105.0  284.0  ...   \n448   7.0  13.0  44.0  209.0  432.0  115.0   3.0  11.0   88.0  432.0  ...   \n\n      SAC    XBH   GDP     GO     AO    GOAO      NP     score  predict  \\\n0     6.0  103.0  27.0   53.0  149.0   0.356  1757.0  5.626502      2.0   \n1    15.0  114.0  25.0  113.0   87.0   1.299  1011.0  5.394748      2.0   \n2    15.0   72.0  14.0   57.0    3.0  19.000  2089.0  5.264166      2.0   \n3    15.0  104.0   6.0  144.0   17.0   8.471   874.0  5.199430      2.0   \n4     4.0  127.0  20.0   78.0  181.0   0.431   907.0  5.140086      2.0   \n..    ...    ...   ...    ...    ...     ...     ...       ...      ...   \n444   2.0   70.0   8.0  114.0   18.0   6.333   696.0  3.900135      2.0   \n445   9.0   72.0  19.0   35.0  110.0   0.318  2796.0  3.899333      2.0   \n446  13.0   92.0   3.0   42.0  207.0   0.203  3256.0  3.897597      2.0   \n447  15.0   92.0  13.0   98.0   69.0   1.420  1883.0  3.894614      2.0   \n448   3.0   64.0  17.0   30.0   35.0   0.857     8.0  3.891282      2.0   \n\n     target  \n0       1.0  \n1       1.0  \n2       0.0  \n3       0.0  \n4       1.0  \n..      ...  \n444     1.0  \n445     0.0  \n446     0.0  \n447     0.0  \n448     1.0  \n\n[449 rows x 31 columns]"
     },
     "execution_count": 2,
     "metadata": {},
     "output_type": "execute_result"
    }
   ],
   "source": [
    "df = pd.DataFrame(columns=[*x.columns.values, 'predict', 'target'])\n",
    "for i in range(len(y_test)):\n",
    "    if y_pred[i] != y_test.to_numpy()[i]:\n",
    "        data = [*x.loc[i].to_numpy(), y_pred[i], y_test.to_numpy()[i]]\n",
    "        df.loc[len(df)] = data\n",
    "\n",
    "df"
   ]
  },
  {
   "cell_type": "code",
   "execution_count": null,
   "metadata": {},
   "outputs": [],
   "source": []
  }
 ]
}