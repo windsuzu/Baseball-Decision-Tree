{
 "nbformat": 4,
 "nbformat_minor": 2,
 "metadata": {
  "language_info": {
   "name": "python",
   "codemirror_mode": {
    "name": "ipython",
    "version": 3
   }
  },
  "orig_nbformat": 2,
  "file_extension": ".py",
  "mimetype": "text/x-python",
  "name": "python",
  "npconvert_exporter": "python",
  "pygments_lexer": "ipython3",
  "version": 3
 },
 "cells": [
  {
   "cell_type": "markdown",
   "execution_count": null,
   "metadata": {},
   "outputs": [],
   "source": [
    "# 1. Train and test the data"
   ]
  },
  {
   "cell_type": "code",
   "execution_count": 1,
   "metadata": {},
   "outputs": [
    {
     "data": {
      "text/plain": "0.862"
     },
     "execution_count": 1,
     "metadata": {},
     "output_type": "execute_result"
    }
   ],
   "source": [
    "from sklearn import datasets\n",
    "from sklearn.model_selection import train_test_split\n",
    "from sklearn.neighbors import KNeighborsClassifier\n",
    "import pandas as pd\n",
    "import matplotlib.pyplot as plt\n",
    "%matplotlib inline\n",
    "\n",
    "# Load Data\n",
    "players = pd.read_csv('players.csv', index_col=[0])\n",
    "x = players.drop(columns=['result'])\n",
    "y = players['result']\n",
    "\n",
    "# split train 70% and test 30%\n",
    "X_train, X_test, y_train, y_test = \\\n",
    "    train_test_split(x, y, test_size=0.3, random_state=0)\n",
    "\n",
    "# Initialize classifier\n",
    "knn = KNeighborsClassifier(n_neighbors=10, algorithm='kd_tree')\n",
    "knn.fit(X_train, y_train)\n",
    "\n",
    "y_pred = knn.predict(X_test)\n",
    "knn.score(X_test, y_test)"
   ]
  },
  {
   "cell_type": "markdown",
   "execution_count": 20,
   "metadata": {},
   "outputs": [],
   "source": [
    "# 2. Find the Error"
   ]
  },
  {
   "cell_type": "code",
   "execution_count": 2,
   "metadata": {},
   "outputs": [
    {
     "data": {
      "text/html": "<div>\n<style scoped>\n    .dataframe tbody tr th:only-of-type {\n        vertical-align: middle;\n    }\n\n    .dataframe tbody tr th {\n        vertical-align: top;\n    }\n\n    .dataframe thead th {\n        text-align: right;\n    }\n</style>\n<table border=\"1\" class=\"dataframe\">\n  <thead>\n    <tr style=\"text-align: right;\">\n      <th></th>\n      <th>2B</th>\n      <th>3B</th>\n      <th>HR</th>\n      <th>H</th>\n      <th>PA</th>\n      <th>BB</th>\n      <th>HBP</th>\n      <th>SF</th>\n      <th>G</th>\n      <th>AB</th>\n      <th>...</th>\n      <th>SAC</th>\n      <th>XBH</th>\n      <th>GDP</th>\n      <th>GO</th>\n      <th>AO</th>\n      <th>GOAO</th>\n      <th>NP</th>\n      <th>score</th>\n      <th>predict</th>\n      <th>target</th>\n    </tr>\n  </thead>\n  <tbody>\n    <tr>\n      <th>0</th>\n      <td>44.0</td>\n      <td>19.0</td>\n      <td>40.0</td>\n      <td>238.0</td>\n      <td>574.0</td>\n      <td>114.0</td>\n      <td>21.0</td>\n      <td>10.0</td>\n      <td>148.0</td>\n      <td>574.0</td>\n      <td>...</td>\n      <td>6.0</td>\n      <td>103.0</td>\n      <td>27.0</td>\n      <td>53.0</td>\n      <td>149.0</td>\n      <td>0.356</td>\n      <td>1757.0</td>\n      <td>5.626502</td>\n      <td>2.0</td>\n      <td>1.0</td>\n    </tr>\n    <tr>\n      <th>1</th>\n      <td>52.0</td>\n      <td>16.0</td>\n      <td>44.0</td>\n      <td>240.0</td>\n      <td>618.0</td>\n      <td>98.0</td>\n      <td>25.0</td>\n      <td>8.0</td>\n      <td>127.0</td>\n      <td>618.0</td>\n      <td>...</td>\n      <td>13.0</td>\n      <td>112.0</td>\n      <td>0.0</td>\n      <td>40.0</td>\n      <td>90.0</td>\n      <td>0.444</td>\n      <td>733.0</td>\n      <td>5.346471</td>\n      <td>0.0</td>\n      <td>2.0</td>\n    </tr>\n    <tr>\n      <th>2</th>\n      <td>46.0</td>\n      <td>19.0</td>\n      <td>25.0</td>\n      <td>257.0</td>\n      <td>628.0</td>\n      <td>109.0</td>\n      <td>39.0</td>\n      <td>7.0</td>\n      <td>146.0</td>\n      <td>628.0</td>\n      <td>...</td>\n      <td>13.0</td>\n      <td>90.0</td>\n      <td>26.0</td>\n      <td>84.0</td>\n      <td>34.0</td>\n      <td>2.471</td>\n      <td>1308.0</td>\n      <td>5.299424</td>\n      <td>0.0</td>\n      <td>2.0</td>\n    </tr>\n    <tr>\n      <th>3</th>\n      <td>14.0</td>\n      <td>19.0</td>\n      <td>39.0</td>\n      <td>238.0</td>\n      <td>427.0</td>\n      <td>101.0</td>\n      <td>2.0</td>\n      <td>14.0</td>\n      <td>146.0</td>\n      <td>427.0</td>\n      <td>...</td>\n      <td>15.0</td>\n      <td>72.0</td>\n      <td>14.0</td>\n      <td>57.0</td>\n      <td>3.0</td>\n      <td>19.000</td>\n      <td>2089.0</td>\n      <td>5.264166</td>\n      <td>2.0</td>\n      <td>0.0</td>\n    </tr>\n    <tr>\n      <th>4</th>\n      <td>57.0</td>\n      <td>20.0</td>\n      <td>54.0</td>\n      <td>131.0</td>\n      <td>135.0</td>\n      <td>120.0</td>\n      <td>31.0</td>\n      <td>15.0</td>\n      <td>125.0</td>\n      <td>135.0</td>\n      <td>...</td>\n      <td>8.0</td>\n      <td>131.0</td>\n      <td>14.0</td>\n      <td>30.0</td>\n      <td>199.0</td>\n      <td>0.151</td>\n      <td>1297.0</td>\n      <td>5.256758</td>\n      <td>1.0</td>\n      <td>2.0</td>\n    </tr>\n    <tr>\n      <th>...</th>\n      <td>...</td>\n      <td>...</td>\n      <td>...</td>\n      <td>...</td>\n      <td>...</td>\n      <td>...</td>\n      <td>...</td>\n      <td>...</td>\n      <td>...</td>\n      <td>...</td>\n      <td>...</td>\n      <td>...</td>\n      <td>...</td>\n      <td>...</td>\n      <td>...</td>\n      <td>...</td>\n      <td>...</td>\n      <td>...</td>\n      <td>...</td>\n      <td>...</td>\n      <td>...</td>\n    </tr>\n    <tr>\n      <th>409</th>\n      <td>30.0</td>\n      <td>3.0</td>\n      <td>39.0</td>\n      <td>254.0</td>\n      <td>329.0</td>\n      <td>76.0</td>\n      <td>31.0</td>\n      <td>4.0</td>\n      <td>136.0</td>\n      <td>329.0</td>\n      <td>...</td>\n      <td>9.0</td>\n      <td>72.0</td>\n      <td>19.0</td>\n      <td>35.0</td>\n      <td>110.0</td>\n      <td>0.318</td>\n      <td>2796.0</td>\n      <td>3.899333</td>\n      <td>2.0</td>\n      <td>0.0</td>\n    </tr>\n    <tr>\n      <th>410</th>\n      <td>4.0</td>\n      <td>17.0</td>\n      <td>47.0</td>\n      <td>183.0</td>\n      <td>506.0</td>\n      <td>114.0</td>\n      <td>20.0</td>\n      <td>1.0</td>\n      <td>139.0</td>\n      <td>506.0</td>\n      <td>...</td>\n      <td>13.0</td>\n      <td>68.0</td>\n      <td>8.0</td>\n      <td>127.0</td>\n      <td>24.0</td>\n      <td>5.292</td>\n      <td>204.0</td>\n      <td>3.898633</td>\n      <td>1.0</td>\n      <td>2.0</td>\n    </tr>\n    <tr>\n      <th>411</th>\n      <td>24.0</td>\n      <td>8.0</td>\n      <td>60.0</td>\n      <td>184.0</td>\n      <td>602.0</td>\n      <td>77.0</td>\n      <td>30.0</td>\n      <td>10.0</td>\n      <td>146.0</td>\n      <td>602.0</td>\n      <td>...</td>\n      <td>13.0</td>\n      <td>92.0</td>\n      <td>3.0</td>\n      <td>42.0</td>\n      <td>207.0</td>\n      <td>0.203</td>\n      <td>3256.0</td>\n      <td>3.897597</td>\n      <td>2.0</td>\n      <td>0.0</td>\n    </tr>\n    <tr>\n      <th>412</th>\n      <td>41.0</td>\n      <td>11.0</td>\n      <td>40.0</td>\n      <td>144.0</td>\n      <td>284.0</td>\n      <td>48.0</td>\n      <td>12.0</td>\n      <td>14.0</td>\n      <td>105.0</td>\n      <td>284.0</td>\n      <td>...</td>\n      <td>15.0</td>\n      <td>92.0</td>\n      <td>13.0</td>\n      <td>98.0</td>\n      <td>69.0</td>\n      <td>1.420</td>\n      <td>1883.0</td>\n      <td>3.894614</td>\n      <td>2.0</td>\n      <td>0.0</td>\n    </tr>\n    <tr>\n      <th>413</th>\n      <td>7.0</td>\n      <td>13.0</td>\n      <td>44.0</td>\n      <td>209.0</td>\n      <td>432.0</td>\n      <td>115.0</td>\n      <td>3.0</td>\n      <td>11.0</td>\n      <td>88.0</td>\n      <td>432.0</td>\n      <td>...</td>\n      <td>3.0</td>\n      <td>64.0</td>\n      <td>17.0</td>\n      <td>30.0</td>\n      <td>35.0</td>\n      <td>0.857</td>\n      <td>8.0</td>\n      <td>3.891282</td>\n      <td>2.0</td>\n      <td>1.0</td>\n    </tr>\n  </tbody>\n</table>\n<p>414 rows × 31 columns</p>\n</div>",
      "text/plain": "       2B    3B    HR      H     PA     BB   HBP    SF      G     AB  ...  \\\n0    44.0  19.0  40.0  238.0  574.0  114.0  21.0  10.0  148.0  574.0  ...   \n1    52.0  16.0  44.0  240.0  618.0   98.0  25.0   8.0  127.0  618.0  ...   \n2    46.0  19.0  25.0  257.0  628.0  109.0  39.0   7.0  146.0  628.0  ...   \n3    14.0  19.0  39.0  238.0  427.0  101.0   2.0  14.0  146.0  427.0  ...   \n4    57.0  20.0  54.0  131.0  135.0  120.0  31.0  15.0  125.0  135.0  ...   \n..    ...   ...   ...    ...    ...    ...   ...   ...    ...    ...  ...   \n409  30.0   3.0  39.0  254.0  329.0   76.0  31.0   4.0  136.0  329.0  ...   \n410   4.0  17.0  47.0  183.0  506.0  114.0  20.0   1.0  139.0  506.0  ...   \n411  24.0   8.0  60.0  184.0  602.0   77.0  30.0  10.0  146.0  602.0  ...   \n412  41.0  11.0  40.0  144.0  284.0   48.0  12.0  14.0  105.0  284.0  ...   \n413   7.0  13.0  44.0  209.0  432.0  115.0   3.0  11.0   88.0  432.0  ...   \n\n      SAC    XBH   GDP     GO     AO    GOAO      NP     score  predict  \\\n0     6.0  103.0  27.0   53.0  149.0   0.356  1757.0  5.626502      2.0   \n1    13.0  112.0   0.0   40.0   90.0   0.444   733.0  5.346471      0.0   \n2    13.0   90.0  26.0   84.0   34.0   2.471  1308.0  5.299424      0.0   \n3    15.0   72.0  14.0   57.0    3.0  19.000  2089.0  5.264166      2.0   \n4     8.0  131.0  14.0   30.0  199.0   0.151  1297.0  5.256758      1.0   \n..    ...    ...   ...    ...    ...     ...     ...       ...      ...   \n409   9.0   72.0  19.0   35.0  110.0   0.318  2796.0  3.899333      2.0   \n410  13.0   68.0   8.0  127.0   24.0   5.292   204.0  3.898633      1.0   \n411  13.0   92.0   3.0   42.0  207.0   0.203  3256.0  3.897597      2.0   \n412  15.0   92.0  13.0   98.0   69.0   1.420  1883.0  3.894614      2.0   \n413   3.0   64.0  17.0   30.0   35.0   0.857     8.0  3.891282      2.0   \n\n     target  \n0       1.0  \n1       2.0  \n2       2.0  \n3       0.0  \n4       2.0  \n..      ...  \n409     0.0  \n410     2.0  \n411     0.0  \n412     0.0  \n413     1.0  \n\n[414 rows x 31 columns]"
     },
     "execution_count": 2,
     "metadata": {},
     "output_type": "execute_result"
    }
   ],
   "source": [
    "df = pd.DataFrame(columns=[*x.columns.values, 'predict', 'target'])\n",
    "for i in range(len(y_test)):\n",
    "    if y_pred[i] != y_test.to_numpy()[i]:\n",
    "        data = [*x.loc[i].to_numpy(), y_pred[i], y_test.to_numpy()[i]]\n",
    "        df.loc[len(df)] = data\n",
    "\n",
    "df"
   ]
  }
 ]
}